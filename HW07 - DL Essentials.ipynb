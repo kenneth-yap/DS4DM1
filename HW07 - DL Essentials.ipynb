{
 "cells": [
  {
   "cell_type": "markdown",
   "metadata": {},
   "source": [
    "# HW07: Deep Learning (due 16th November)\n",
    "\n",
    "In this homework, you will replicate the heterogenous treatment effect exercise from last week's homework using a deep learning model instead of a machine learning one. \n",
    "\n",
    "For those who did not complete this exercise, you will investigate the effect of case management on mental health outcomes. These data come from a randomized control trial where patients were assigned to *intensive* or *standard* case management. In this context, the treatment is being assigned to the **intensive** case management while patients assigned to the **standard** case management belong to the control group.\n",
    "\n",
    "We will investigate characteristics of individuals who are most and least responsive to the treatment, i.e., to being assigned to the intensive case management. "
   ]
  },
  {
   "cell_type": "code",
   "execution_count": 1,
   "metadata": {
    "scrolled": true
   },
   "outputs": [],
   "source": [
    "# import sys\n",
    "# !conda install --yes --prefix {sys.prefix} tensorflow\n",
    "import warnings\n",
    "warnings.filterwarnings(\"ignore\")\n",
    "import pandas as pd\n",
    "from tensorflow import keras"
   ]
  },
  {
   "cell_type": "code",
   "execution_count": 2,
   "metadata": {},
   "outputs": [
    {
     "data": {
      "text/plain": [
       "{'trialid': 'Trial ID',\n",
       " 'centreid': 'Trial centre',\n",
       " 'status': 'Patient status at baseline',\n",
       " 'age': 'Age in years at baseline',\n",
       " 'sex': 'Sex',\n",
       " 'afcarib': 'Ethnic group',\n",
       " 'ocfabth': \"Father's social class at birth\",\n",
       " 'chron1l': 'Months since onset of psychosis, logged',\n",
       " 'hos94': 'Days in hospital for psychiatric reasons: 2 years before baseline',\n",
       " 'cprs94': 'Psychopathology at baseline (CPRS)',\n",
       " 'das94': 'Disability at baseline (DAS)',\n",
       " 'sat94': '(Dis)satisfaction with services at baseline',\n",
       " 'rand': 'Randomised group',\n",
       " 'hos96': 'Days in hospital for psychiatric reasons: 2 years after baseline',\n",
       " 'cprs96': 'Psychopathology at 2 years (CPRS)',\n",
       " 'sat96': '(Dis)satisfaction with services at 2 years'}"
      ]
     },
     "execution_count": 2,
     "metadata": {},
     "output_type": "execute_result"
    }
   ],
   "source": [
    "import statsmodels.formula.api as smf\n",
    "\n",
    "df = pd.read_stata('http://www.homepages.ucl.ac.uk/~rmjwiww/stata/missing/uk500.dta')\n",
    "df = df.dropna()\n",
    "pd.read_stata('http://www.homepages.ucl.ac.uk/~rmjwiww/stata/missing/uk500.dta', iterator=True).variable_labels()"
   ]
  },
  {
   "cell_type": "code",
   "execution_count": 3,
   "metadata": {},
   "outputs": [
    {
     "data": {
      "text/html": [
       "<div>\n",
       "<style scoped>\n",
       "    .dataframe tbody tr th:only-of-type {\n",
       "        vertical-align: middle;\n",
       "    }\n",
       "\n",
       "    .dataframe tbody tr th {\n",
       "        vertical-align: top;\n",
       "    }\n",
       "\n",
       "    .dataframe thead th {\n",
       "        text-align: right;\n",
       "    }\n",
       "</style>\n",
       "<table border=\"1\" class=\"dataframe\">\n",
       "  <thead>\n",
       "    <tr style=\"text-align: right;\">\n",
       "      <th></th>\n",
       "      <th>trialid</th>\n",
       "      <th>centreid</th>\n",
       "      <th>status</th>\n",
       "      <th>age</th>\n",
       "      <th>sex</th>\n",
       "      <th>afcarib</th>\n",
       "      <th>ocfabth</th>\n",
       "      <th>chron1l</th>\n",
       "      <th>hos94</th>\n",
       "      <th>cprs94</th>\n",
       "      <th>das94</th>\n",
       "      <th>sat94</th>\n",
       "      <th>rand</th>\n",
       "      <th>hos96</th>\n",
       "      <th>cprs96</th>\n",
       "      <th>sat96</th>\n",
       "    </tr>\n",
       "  </thead>\n",
       "  <tbody>\n",
       "    <tr>\n",
       "      <th>1</th>\n",
       "      <td>107.0</td>\n",
       "      <td>St George's</td>\n",
       "      <td>Out-patient</td>\n",
       "      <td>27.0</td>\n",
       "      <td>male</td>\n",
       "      <td>Other</td>\n",
       "      <td>A</td>\n",
       "      <td>3.178054</td>\n",
       "      <td>80.0</td>\n",
       "      <td>4.0</td>\n",
       "      <td>0.285714</td>\n",
       "      <td>18.0</td>\n",
       "      <td>Intensive case management</td>\n",
       "      <td>27.0</td>\n",
       "      <td>3.0</td>\n",
       "      <td>22.000</td>\n",
       "    </tr>\n",
       "    <tr>\n",
       "      <th>2</th>\n",
       "      <td>222005.0</td>\n",
       "      <td>St Mary's</td>\n",
       "      <td>In hospital</td>\n",
       "      <td>41.0</td>\n",
       "      <td>male</td>\n",
       "      <td>Other</td>\n",
       "      <td>D</td>\n",
       "      <td>4.521789</td>\n",
       "      <td>240.0</td>\n",
       "      <td>6.0</td>\n",
       "      <td>0.750000</td>\n",
       "      <td>15.0</td>\n",
       "      <td>Intensive case management</td>\n",
       "      <td>15.0</td>\n",
       "      <td>13.0</td>\n",
       "      <td>9.000</td>\n",
       "    </tr>\n",
       "    <tr>\n",
       "      <th>3</th>\n",
       "      <td>222018.0</td>\n",
       "      <td>St Mary's</td>\n",
       "      <td>In hospital</td>\n",
       "      <td>25.0</td>\n",
       "      <td>male</td>\n",
       "      <td>Other</td>\n",
       "      <td>C2</td>\n",
       "      <td>4.094345</td>\n",
       "      <td>48.0</td>\n",
       "      <td>12.0</td>\n",
       "      <td>0.125000</td>\n",
       "      <td>18.0</td>\n",
       "      <td>Intensive case management</td>\n",
       "      <td>263.0</td>\n",
       "      <td>6.0</td>\n",
       "      <td>21.375</td>\n",
       "    </tr>\n",
       "    <tr>\n",
       "      <th>5</th>\n",
       "      <td>312015.0</td>\n",
       "      <td>King's</td>\n",
       "      <td>Out-patient</td>\n",
       "      <td>31.0</td>\n",
       "      <td>female</td>\n",
       "      <td>Other</td>\n",
       "      <td>A</td>\n",
       "      <td>4.787492</td>\n",
       "      <td>60.0</td>\n",
       "      <td>28.0</td>\n",
       "      <td>2.375000</td>\n",
       "      <td>20.0</td>\n",
       "      <td>Intensive case management</td>\n",
       "      <td>45.0</td>\n",
       "      <td>19.0</td>\n",
       "      <td>17.000</td>\n",
       "    </tr>\n",
       "    <tr>\n",
       "      <th>6</th>\n",
       "      <td>221023.0</td>\n",
       "      <td>St Mary's</td>\n",
       "      <td>In hospital</td>\n",
       "      <td>35.0</td>\n",
       "      <td>male</td>\n",
       "      <td>Afro-Caribbean</td>\n",
       "      <td>C2</td>\n",
       "      <td>4.430817</td>\n",
       "      <td>60.0</td>\n",
       "      <td>25.0</td>\n",
       "      <td>1.571428</td>\n",
       "      <td>24.0</td>\n",
       "      <td>Intensive case management</td>\n",
       "      <td>58.0</td>\n",
       "      <td>27.0</td>\n",
       "      <td>19.125</td>\n",
       "    </tr>\n",
       "  </tbody>\n",
       "</table>\n",
       "</div>"
      ],
      "text/plain": [
       "    trialid     centreid       status   age     sex         afcarib ocfabth  \\\n",
       "1     107.0  St George's  Out-patient  27.0    male           Other       A   \n",
       "2  222005.0    St Mary's  In hospital  41.0    male           Other       D   \n",
       "3  222018.0    St Mary's  In hospital  25.0    male           Other      C2   \n",
       "5  312015.0       King's  Out-patient  31.0  female           Other       A   \n",
       "6  221023.0    St Mary's  In hospital  35.0    male  Afro-Caribbean      C2   \n",
       "\n",
       "    chron1l  hos94  cprs94     das94  sat94                       rand  hos96  \\\n",
       "1  3.178054   80.0     4.0  0.285714   18.0  Intensive case management   27.0   \n",
       "2  4.521789  240.0     6.0  0.750000   15.0  Intensive case management   15.0   \n",
       "3  4.094345   48.0    12.0  0.125000   18.0  Intensive case management  263.0   \n",
       "5  4.787492   60.0    28.0  2.375000   20.0  Intensive case management   45.0   \n",
       "6  4.430817   60.0    25.0  1.571428   24.0  Intensive case management   58.0   \n",
       "\n",
       "   cprs96   sat96  \n",
       "1     3.0  22.000  \n",
       "2    13.0   9.000  \n",
       "3     6.0  21.375  \n",
       "5    19.0  17.000  \n",
       "6    27.0  19.125  "
      ]
     },
     "execution_count": 3,
     "metadata": {},
     "output_type": "execute_result"
    }
   ],
   "source": [
    "df.head()"
   ]
  },
  {
   "cell_type": "markdown",
   "metadata": {},
   "source": [
    "The treatment variable is $rand$, the post-treatment outcomes are $hos96$, $cprs96$ and $sat96$."
   ]
  },
  {
   "cell_type": "code",
   "execution_count": 4,
   "metadata": {},
   "outputs": [
    {
     "data": {
      "text/plain": [
       "Intensive case management    130\n",
       "Standard case management     116\n",
       "Name: rand, dtype: int64"
      ]
     },
     "execution_count": 4,
     "metadata": {},
     "output_type": "execute_result"
    }
   ],
   "source": [
    "treatvar = 'rand'\n",
    "df[treatvar].value_counts()"
   ]
  },
  {
   "cell_type": "code",
   "execution_count": 5,
   "metadata": {},
   "outputs": [
    {
     "data": {
      "text/html": [
       "<div>\n",
       "<style scoped>\n",
       "    .dataframe tbody tr th:only-of-type {\n",
       "        vertical-align: middle;\n",
       "    }\n",
       "\n",
       "    .dataframe tbody tr th {\n",
       "        vertical-align: top;\n",
       "    }\n",
       "\n",
       "    .dataframe thead th {\n",
       "        text-align: right;\n",
       "    }\n",
       "</style>\n",
       "<table border=\"1\" class=\"dataframe\">\n",
       "  <thead>\n",
       "    <tr style=\"text-align: right;\">\n",
       "      <th></th>\n",
       "      <th>sat96</th>\n",
       "      <th>hos96</th>\n",
       "      <th>cprs96</th>\n",
       "    </tr>\n",
       "  </thead>\n",
       "  <tbody>\n",
       "    <tr>\n",
       "      <th>count</th>\n",
       "      <td>246.000000</td>\n",
       "      <td>246.000000</td>\n",
       "      <td>246.000000</td>\n",
       "    </tr>\n",
       "    <tr>\n",
       "      <th>mean</th>\n",
       "      <td>17.271341</td>\n",
       "      <td>65.500000</td>\n",
       "      <td>17.790587</td>\n",
       "    </tr>\n",
       "    <tr>\n",
       "      <th>std</th>\n",
       "      <td>4.723009</td>\n",
       "      <td>104.046722</td>\n",
       "      <td>14.090911</td>\n",
       "    </tr>\n",
       "    <tr>\n",
       "      <th>min</th>\n",
       "      <td>9.000000</td>\n",
       "      <td>0.000000</td>\n",
       "      <td>0.000000</td>\n",
       "    </tr>\n",
       "    <tr>\n",
       "      <th>25%</th>\n",
       "      <td>14.000000</td>\n",
       "      <td>0.000000</td>\n",
       "      <td>7.000000</td>\n",
       "    </tr>\n",
       "    <tr>\n",
       "      <th>50%</th>\n",
       "      <td>17.000000</td>\n",
       "      <td>15.000000</td>\n",
       "      <td>15.000000</td>\n",
       "    </tr>\n",
       "    <tr>\n",
       "      <th>75%</th>\n",
       "      <td>20.187500</td>\n",
       "      <td>93.500000</td>\n",
       "      <td>26.000000</td>\n",
       "    </tr>\n",
       "    <tr>\n",
       "      <th>max</th>\n",
       "      <td>32.000000</td>\n",
       "      <td>692.000000</td>\n",
       "      <td>71.000000</td>\n",
       "    </tr>\n",
       "  </tbody>\n",
       "</table>\n",
       "</div>"
      ],
      "text/plain": [
       "            sat96       hos96      cprs96\n",
       "count  246.000000  246.000000  246.000000\n",
       "mean    17.271341   65.500000   17.790587\n",
       "std      4.723009  104.046722   14.090911\n",
       "min      9.000000    0.000000    0.000000\n",
       "25%     14.000000    0.000000    7.000000\n",
       "50%     17.000000   15.000000   15.000000\n",
       "75%     20.187500   93.500000   26.000000\n",
       "max     32.000000  692.000000   71.000000"
      ]
     },
     "execution_count": 5,
     "metadata": {},
     "output_type": "execute_result"
    }
   ],
   "source": [
    "outcomes = ['sat96', 'hos96', 'cprs96']\n",
    "df[outcomes].describe()"
   ]
  },
  {
   "cell_type": "markdown",
   "metadata": {},
   "source": [
    "In addition to these variables we need a set of covariates that we want to use to identify individuals who are most and least responsive to treatment. We also encode categorical covariates and prepare them for the ML model."
   ]
  },
  {
   "cell_type": "code",
   "execution_count": 6,
   "metadata": {},
   "outputs": [
    {
     "data": {
      "text/html": [
       "<div>\n",
       "<style scoped>\n",
       "    .dataframe tbody tr th:only-of-type {\n",
       "        vertical-align: middle;\n",
       "    }\n",
       "\n",
       "    .dataframe tbody tr th {\n",
       "        vertical-align: top;\n",
       "    }\n",
       "\n",
       "    .dataframe thead th {\n",
       "        text-align: right;\n",
       "    }\n",
       "</style>\n",
       "<table border=\"1\" class=\"dataframe\">\n",
       "  <thead>\n",
       "    <tr style=\"text-align: right;\">\n",
       "      <th></th>\n",
       "      <th>status</th>\n",
       "      <th>sex</th>\n",
       "      <th>sat94</th>\n",
       "      <th>ocfabth</th>\n",
       "      <th>hos94</th>\n",
       "      <th>das94</th>\n",
       "      <th>cprs94</th>\n",
       "      <th>age</th>\n",
       "      <th>afcarib</th>\n",
       "    </tr>\n",
       "  </thead>\n",
       "  <tbody>\n",
       "    <tr>\n",
       "      <th>1</th>\n",
       "      <td>1.0</td>\n",
       "      <td>1.0</td>\n",
       "      <td>18.0</td>\n",
       "      <td>0.0</td>\n",
       "      <td>80.0</td>\n",
       "      <td>0.285714</td>\n",
       "      <td>4.0</td>\n",
       "      <td>27.0</td>\n",
       "      <td>1.0</td>\n",
       "    </tr>\n",
       "    <tr>\n",
       "      <th>2</th>\n",
       "      <td>0.0</td>\n",
       "      <td>1.0</td>\n",
       "      <td>15.0</td>\n",
       "      <td>4.0</td>\n",
       "      <td>240.0</td>\n",
       "      <td>0.750000</td>\n",
       "      <td>6.0</td>\n",
       "      <td>41.0</td>\n",
       "      <td>1.0</td>\n",
       "    </tr>\n",
       "    <tr>\n",
       "      <th>3</th>\n",
       "      <td>0.0</td>\n",
       "      <td>1.0</td>\n",
       "      <td>18.0</td>\n",
       "      <td>3.0</td>\n",
       "      <td>48.0</td>\n",
       "      <td>0.125000</td>\n",
       "      <td>12.0</td>\n",
       "      <td>25.0</td>\n",
       "      <td>1.0</td>\n",
       "    </tr>\n",
       "    <tr>\n",
       "      <th>5</th>\n",
       "      <td>1.0</td>\n",
       "      <td>0.0</td>\n",
       "      <td>20.0</td>\n",
       "      <td>0.0</td>\n",
       "      <td>60.0</td>\n",
       "      <td>2.375000</td>\n",
       "      <td>28.0</td>\n",
       "      <td>31.0</td>\n",
       "      <td>1.0</td>\n",
       "    </tr>\n",
       "    <tr>\n",
       "      <th>6</th>\n",
       "      <td>0.0</td>\n",
       "      <td>1.0</td>\n",
       "      <td>24.0</td>\n",
       "      <td>3.0</td>\n",
       "      <td>60.0</td>\n",
       "      <td>1.571428</td>\n",
       "      <td>25.0</td>\n",
       "      <td>35.0</td>\n",
       "      <td>0.0</td>\n",
       "    </tr>\n",
       "  </tbody>\n",
       "</table>\n",
       "</div>"
      ],
      "text/plain": [
       "   status  sex  sat94  ocfabth  hos94     das94  cprs94   age  afcarib\n",
       "1     1.0  1.0   18.0      0.0   80.0  0.285714     4.0  27.0      1.0\n",
       "2     0.0  1.0   15.0      4.0  240.0  0.750000     6.0  41.0      1.0\n",
       "3     0.0  1.0   18.0      3.0   48.0  0.125000    12.0  25.0      1.0\n",
       "5     1.0  0.0   20.0      0.0   60.0  2.375000    28.0  31.0      1.0\n",
       "6     0.0  1.0   24.0      3.0   60.0  1.571428    25.0  35.0      0.0"
      ]
     },
     "execution_count": 6,
     "metadata": {},
     "output_type": "execute_result"
    }
   ],
   "source": [
    "#Encoding Categorical covariates and preparing the data for tensorflow\n",
    "covariates = ['status', 'sex', 'sat94', 'ocfabth', 'hos94', 'das94', 'cprs94', 'age', 'afcarib']\n",
    "covariates_cat = ['status', 'sex', 'ocfabth', 'afcarib']\n",
    "\n",
    "from sklearn.preprocessing import OrdinalEncoder\n",
    "encoder = OrdinalEncoder()\n",
    "df[covariates_cat] = encoder.fit_transform(df[covariates_cat])\n",
    "df[covariates] = df[covariates].astype('float32')\n",
    "df[covariates].head()"
   ]
  },
  {
   "cell_type": "code",
   "execution_count": 7,
   "metadata": {},
   "outputs": [],
   "source": [
    "# Subset the dataset by treatment and control\n",
    "# Within each sample, create a training, a test and a validation set\n",
    "\n",
    "df_treat = df.loc[df[treatvar]=='Intensive case management']\n",
    "df_control = df.loc[df[treatvar]!='Intensive case management']"
   ]
  },
  {
   "cell_type": "code",
   "execution_count": 8,
   "metadata": {},
   "outputs": [],
   "source": [
    "##choose one of the three outcomes to analyze\n",
    "## build two MLP (multilayer perceptron) models to predict the outcome based on the covariates\n",
    "## the first model should be trained on the treated sample, while the second on the control\n",
    "y = 'sat96'\n",
    "\n",
    "# the two MLP models should have with at least 2 hidden layers, ReLU activation, batch normalization, dropout\n",
    "\n",
    "model_treat = keras.models.Sequential()\n",
    "model_control = keras.models.Sequential()\n",
    "\n",
    "model_treat.add(keras.layers.Dense(50, input_dim = len(covariates), activation=\"relu\"))\n",
    "model_treat.add(keras.layers.BatchNormalization())\n",
    "model_treat.add(keras.layers.Dropout(.5))\n",
    "\n",
    "# Now the model will take as input arrays of shape (None,input_dim)\n",
    "# and output arrays of shape (None, 50).\n",
    "# Note that after the first layer, you don't need to specify\n",
    "# the size of the input anymore:\n",
    "\n",
    "model_treat.add(keras.layers.Dense(25, activation=\"relu\"))\n",
    "model_treat.add(keras.layers.BatchNormalization())\n",
    "model_treat.add(keras.layers.Dropout(.5))\n",
    "model_treat.add(keras.layers.Dense(10, activation=\"relu\"))\n",
    "model_treat.add(keras.layers.BatchNormalization())\n",
    "model_treat.add(keras.layers.Dropout(.5))\n",
    "model_treat.add(keras.layers.Dense(1))\n",
    "\n",
    "\n",
    "model_control.add(keras.layers.Dense(50, input_dim = len(covariates), activation=\"relu\"))\n",
    "model_control.add(keras.layers.BatchNormalization())\n",
    "model_control.add(keras.layers.Dropout(.5))\n",
    "model_control.add(keras.layers.Dense(25, activation=\"relu\"))\n",
    "model_control.add(keras.layers.BatchNormalization())\n",
    "model_control.add(keras.layers.Dropout(.5))\n",
    "model_control.add(keras.layers.Dense(10, activation=\"relu\"))\n",
    "model_control.add(keras.layers.BatchNormalization())\n",
    "model_control.add(keras.layers.Dropout(.5))\n",
    "model_control.add(keras.layers.Dense(1))\n"
   ]
  },
  {
   "cell_type": "code",
   "execution_count": 9,
   "metadata": {},
   "outputs": [],
   "source": [
    "# compile the models\n",
    "model_treat.compile(loss=\"mean_squared_error\", optimizer=\"adam\", metrics=[\"mean_squared_error\"])\n",
    "model_control.compile(loss=\"mean_squared_error\", optimizer=\"adam\", metrics=[\"mean_squared_error\"])"
   ]
  },
  {
   "cell_type": "code",
   "execution_count": 10,
   "metadata": {},
   "outputs": [
    {
     "name": "stdout",
     "output_type": "stream",
     "text": [
      "Treatment Dataset\n",
      "Epoch 1/20\n"
     ]
    },
    {
     "name": "stderr",
     "output_type": "stream",
     "text": [
      "2023-03-17 11:29:07.691713: W tensorflow/core/platform/profile_utils/cpu_utils.cc:128] Failed to get CPU frequency: 0 Hz\n"
     ]
    },
    {
     "name": "stdout",
     "output_type": "stream",
     "text": [
      "3/3 [==============================] - 0s 40ms/step - loss: 346.3480 - mean_squared_error: 346.3480 - val_loss: 306.7395 - val_mean_squared_error: 306.7395\n",
      "Epoch 2/20\n",
      "3/3 [==============================] - 0s 5ms/step - loss: 357.7677 - mean_squared_error: 357.7677 - val_loss: 306.6607 - val_mean_squared_error: 306.6607\n",
      "Epoch 2: early stopping\n",
      " \n",
      "Control Dataset\n",
      "Epoch 1/20\n",
      "3/3 [==============================] - 0s 33ms/step - loss: 322.6364 - mean_squared_error: 322.6364 - val_loss: 714.8260 - val_mean_squared_error: 714.8260\n",
      "Epoch 2/20\n",
      "3/3 [==============================] - 0s 5ms/step - loss: 302.9617 - mean_squared_error: 302.9617 - val_loss: 652.8483 - val_mean_squared_error: 652.8483\n",
      "Epoch 2: early stopping\n"
     ]
    }
   ],
   "source": [
    "# fit separate models on the treatment dataset and control dataset\n",
    "# use early stopping\n",
    "es = keras.callbacks.EarlyStopping(monitor='val_loss', mode='min', verbose=1)\n",
    "# to use validation loss as performance measure to terminate the training.\n",
    "# In 'min' mode, training will stop when the quantity monitored has stopped decreasing\n",
    "# verbose 0, 1 or 2 you just say how do you want to 'see' the training progress for each epoch.\n",
    "from sklearn.model_selection import train_test_split\n",
    "\n",
    "print(\"Treatment Dataset\")\n",
    "Xt = df_treat[covariates]\n",
    "yt = df_treat[y]\n",
    "Xt_train, Xt_test, yt_train, yt_test = train_test_split(Xt, yt, random_state=42)\n",
    "\n",
    "fit_treat = model_treat.fit(Xt_train, yt_train, epochs=20, validation_split=0.2, callbacks=[es])\n",
    "\n",
    "print(\" \")\n",
    "print(\"Control Dataset\")\n",
    "Xcontrol = df_control[covariates]\n",
    "ycontrol = df_control[y]\n",
    "Xcontrol_train, Xcontrol_test, ycontrol_train, ycontrol_test = train_test_split(Xcontrol, ycontrol, random_state=42)\n",
    "\n",
    "fit_control = model_control.fit(Xcontrol_train, ycontrol_train, epochs=20, validation_split=0.2, callbacks=[es])"
   ]
  },
  {
   "cell_type": "code",
   "execution_count": 11,
   "metadata": {},
   "outputs": [
    {
     "data": {
      "image/png": "[encoded data removed]",
      "text/plain": [
       "<Figure size 640x480 with 1 Axes>"
      ]
     },
     "metadata": {},
     "output_type": "display_data"
    },
    {
     "data": {
      "image/png": "[encoded data removed]",
      "text/plain": [
       "<Figure size 640x480 with 1 Axes>"
      ]
     },
     "metadata": {},
     "output_type": "display_data"
    }
   ],
   "source": [
    "%matplotlib inline\n",
    "import matplotlib.pyplot as plt\n",
    "# Plot performance by epoch\n",
    "plt.plot(fit_treat.epoch,fit_treat.history['mean_squared_error'])\n",
    "plt.plot(fit_treat.epoch,fit_treat.history['val_mean_squared_error'])\n",
    "plt.legend(['train', 'val'], loc='best')\n",
    "plt.show()\n",
    "plt.plot(fit_control.epoch,fit_control.history['mean_squared_error'])\n",
    "plt.plot(fit_control.epoch,fit_control.history['val_mean_squared_error'])\n",
    "plt.legend(['train', 'val'], loc='best')\n",
    "plt.show()"
   ]
  },
  {
   "cell_type": "code",
   "execution_count": 13,
   "metadata": {},
   "outputs": [
    {
     "name": "stdout",
     "output_type": "stream",
     "text": [
      "Treatment Dataset\n",
      "Epoch 1/20\n",
      "3/3 [==============================] - 0s 26ms/step - loss: 1640.4386 - mean_squared_error: 1640.4386 - val_loss: 235.8254 - val_mean_squared_error: 235.8254\n",
      "Epoch 2/20\n",
      "3/3 [==============================] - 0s 5ms/step - loss: 716.8540 - mean_squared_error: 716.8540 - val_loss: 176.9415 - val_mean_squared_error: 176.9415\n",
      "Epoch 2: early stopping\n",
      " \n",
      "Control Dataset\n",
      "Epoch 1/20\n",
      "1/3 [=========>....................] - ETA: 0s - loss: 269.8222 - mean_squared_error: 269.8222WARNING:tensorflow:5 out of the last 9 calls to <function Model.make_test_function.<locals>.test_function at 0x28f7e6c10> triggered tf.function retracing. Tracing is expensive and the excessive number of tracings could be due to (1) creating @tf.function repeatedly in a loop, (2) passing tensors with different shapes, (3) passing Python objects instead of tensors. For (1), please define your @tf.function outside of the loop. For (2), @tf.function has reduce_retracing=True option that can avoid unnecessary retracing. For (3), please refer to https://www.tensorflow.org/guide/function#controlling_retracing and https://www.tensorflow.org/api_docs/python/tf/function for  more details.\n",
      "3/3 [==============================] - 0s 26ms/step - loss: 264.6240 - mean_squared_error: 264.6240 - val_loss: 122.3668 - val_mean_squared_error: 122.3668\n",
      "Epoch 2/20\n",
      "3/3 [==============================] - 0s 5ms/step - loss: 187.4793 - mean_squared_error: 187.4793 - val_loss: 106.5922 - val_mean_squared_error: 106.5922\n",
      "Epoch 2: early stopping\n"
     ]
    }
   ],
   "source": [
    "# build MLP models with at least 2 hidden layers, ReLU activation, batch normalization, dropout\n",
    "model_treat2 = keras.models.Sequential()\n",
    "model_control2 = keras.models.Sequential()\n",
    "\n",
    "model_treat2 = keras.models.Sequential()\n",
    "model_treat2.add(keras.layers.Dense(50, input_dim = len(covariates), activation=\"relu\"))\n",
    "model_treat2.add(keras.layers.Dropout(.3))\n",
    "model_treat2.add(keras.layers.Dense(25, activation=\"relu\"))\n",
    "model_treat2.add(keras.layers.Dropout(.3))\n",
    "model_treat2.add(keras.layers.Dense(10, activation=\"relu\"))\n",
    "model_treat2.add(keras.layers.Dense(1))\n",
    "\n",
    "\n",
    "model_control2 = keras.models.Sequential()\n",
    "model_control2.add(keras.layers.Dense(50, input_dim = len(covariates), activation=\"relu\"))\n",
    "model_control2.add(keras.layers.Dropout(.3))\n",
    "model_control2.add(keras.layers.Dense(25, activation=\"relu\"))\n",
    "model_control2.add(keras.layers.Dropout(.3))\n",
    "model_control2.add(keras.layers.Dense(10, activation=\"relu\"))\n",
    "model_control2.add(keras.layers.Dense(1))\n",
    "\n",
    "model_treat2.compile(loss=\"mean_squared_error\",\n",
    "              optimizer=\"adam\",\n",
    "              metrics=[\"mean_squared_error\"])\n",
    "model_control2.compile(loss=\"mean_squared_error\",\n",
    "              optimizer=\"adam\",\n",
    "              metrics=[\"mean_squared_error\"])\n",
    "\n",
    "es = keras.callbacks.EarlyStopping(monitor='val_loss', mode='min', verbose=1)\n",
    "\n",
    "from sklearn.model_selection import train_test_split\n",
    "\n",
    "print(\"Treatment Dataset\")\n",
    "\n",
    "fit_treat2 = model_treat2.fit(Xt_train, yt_train, epochs=20, validation_split=0.2, callbacks=[es])\n",
    "\n",
    "print(\" \")\n",
    "print(\"Control Dataset\")\n",
    "\n",
    "\n",
    "fit_control2 = model_control2.fit(Xcontrol_train, ycontrol_train, epochs=20, validation_split=0.2, callbacks=[es])"
   ]
  },
  {
   "cell_type": "code",
   "execution_count": 14,
   "metadata": {},
   "outputs": [
    {
     "data": {
      "image/png": "[encoded data removed]",
      "text/plain": [
       "<Figure size 640x480 with 1 Axes>"
      ]
     },
     "metadata": {},
     "output_type": "display_data"
    },
    {
     "data": {
      "image/png": "[encoded data removed]",
      "text/plain": [
       "<Figure size 640x480 with 1 Axes>"
      ]
     },
     "metadata": {},
     "output_type": "display_data"
    }
   ],
   "source": [
    "%matplotlib inline\n",
    "import matplotlib.pyplot as plt\n",
    "# Plot performance by epoch\n",
    "plt.plot(fit_treat.epoch,fit_treat.history['mean_squared_error'])\n",
    "plt.plot(fit_treat.epoch,fit_treat.history['val_mean_squared_error'])\n",
    "plt.legend(['train', 'val'], loc='best')\n",
    "plt.show()\n",
    "plt.plot(fit_control.epoch,fit_control.history['mean_squared_error'])\n",
    "plt.plot(fit_control.epoch,fit_control.history['val_mean_squared_error'])\n",
    "plt.legend(['train', 'val'], loc='best')\n",
    "plt.show()"
   ]
  },
  {
   "cell_type": "code",
   "execution_count": 15,
   "metadata": {},
   "outputs": [
    {
     "name": "stdout",
     "output_type": "stream",
     "text": [
      "2/2 [==============================] - 0s 848us/step\n",
      "2/2 [==============================] - 0s 1ms/step\n"
     ]
    }
   ],
   "source": [
    "##get predicted outcomes using the combined test sets for both models \n",
    "\n",
    "test_set = pd.concat([Xt_test,Xcontrol_test]) \n",
    "yhat_treat = model_treat.predict(test_set)\n",
    "yhat_control = model_control.predict(test_set)"
   ]
  },
  {
   "cell_type": "code",
   "execution_count": 16,
   "metadata": {},
   "outputs": [
    {
     "data": {
      "text/html": [
       "<div>\n",
       "<style scoped>\n",
       "    .dataframe tbody tr th:only-of-type {\n",
       "        vertical-align: middle;\n",
       "    }\n",
       "\n",
       "    .dataframe tbody tr th {\n",
       "        vertical-align: top;\n",
       "    }\n",
       "\n",
       "    .dataframe thead th {\n",
       "        text-align: right;\n",
       "    }\n",
       "</style>\n",
       "<table border=\"1\" class=\"dataframe\">\n",
       "  <thead>\n",
       "    <tr style=\"text-align: right;\">\n",
       "      <th></th>\n",
       "      <th>status</th>\n",
       "      <th>sex</th>\n",
       "      <th>sat94</th>\n",
       "      <th>ocfabth</th>\n",
       "      <th>hos94</th>\n",
       "      <th>das94</th>\n",
       "      <th>cprs94</th>\n",
       "      <th>age</th>\n",
       "      <th>afcarib</th>\n",
       "      <th>treat_effect</th>\n",
       "    </tr>\n",
       "  </thead>\n",
       "  <tbody>\n",
       "    <tr>\n",
       "      <th>156</th>\n",
       "      <td>1.0</td>\n",
       "      <td>0.0</td>\n",
       "      <td>9.000</td>\n",
       "      <td>5.0</td>\n",
       "      <td>14.0</td>\n",
       "      <td>0.500000</td>\n",
       "      <td>14.000000</td>\n",
       "      <td>37.0</td>\n",
       "      <td>1.0</td>\n",
       "      <td>2.672244</td>\n",
       "    </tr>\n",
       "    <tr>\n",
       "      <th>121</th>\n",
       "      <td>1.0</td>\n",
       "      <td>1.0</td>\n",
       "      <td>9.000</td>\n",
       "      <td>3.0</td>\n",
       "      <td>90.0</td>\n",
       "      <td>1.142857</td>\n",
       "      <td>8.445178</td>\n",
       "      <td>28.0</td>\n",
       "      <td>1.0</td>\n",
       "      <td>2.746894</td>\n",
       "    </tr>\n",
       "    <tr>\n",
       "      <th>195</th>\n",
       "      <td>1.0</td>\n",
       "      <td>0.0</td>\n",
       "      <td>12.375</td>\n",
       "      <td>4.0</td>\n",
       "      <td>126.0</td>\n",
       "      <td>0.500000</td>\n",
       "      <td>4.000000</td>\n",
       "      <td>38.0</td>\n",
       "      <td>0.0</td>\n",
       "      <td>2.906835</td>\n",
       "    </tr>\n",
       "    <tr>\n",
       "      <th>276</th>\n",
       "      <td>1.0</td>\n",
       "      <td>1.0</td>\n",
       "      <td>22.000</td>\n",
       "      <td>4.0</td>\n",
       "      <td>420.0</td>\n",
       "      <td>1.428571</td>\n",
       "      <td>32.000000</td>\n",
       "      <td>47.0</td>\n",
       "      <td>1.0</td>\n",
       "      <td>12.132431</td>\n",
       "    </tr>\n",
       "    <tr>\n",
       "      <th>327</th>\n",
       "      <td>1.0</td>\n",
       "      <td>0.0</td>\n",
       "      <td>23.000</td>\n",
       "      <td>0.0</td>\n",
       "      <td>68.0</td>\n",
       "      <td>4.714283</td>\n",
       "      <td>67.000000</td>\n",
       "      <td>47.0</td>\n",
       "      <td>0.0</td>\n",
       "      <td>14.182419</td>\n",
       "    </tr>\n",
       "    <tr>\n",
       "      <th>151</th>\n",
       "      <td>1.0</td>\n",
       "      <td>1.0</td>\n",
       "      <td>24.000</td>\n",
       "      <td>3.0</td>\n",
       "      <td>558.0</td>\n",
       "      <td>2.000000</td>\n",
       "      <td>40.000000</td>\n",
       "      <td>33.0</td>\n",
       "      <td>1.0</td>\n",
       "      <td>14.554812</td>\n",
       "    </tr>\n",
       "  </tbody>\n",
       "</table>\n",
       "</div>"
      ],
      "text/plain": [
       "     status  sex   sat94  ocfabth  hos94     das94     cprs94   age  afcarib  \\\n",
       "156     1.0  0.0   9.000      5.0   14.0  0.500000  14.000000  37.0      1.0   \n",
       "121     1.0  1.0   9.000      3.0   90.0  1.142857   8.445178  28.0      1.0   \n",
       "195     1.0  0.0  12.375      4.0  126.0  0.500000   4.000000  38.0      0.0   \n",
       "276     1.0  1.0  22.000      4.0  420.0  1.428571  32.000000  47.0      1.0   \n",
       "327     1.0  0.0  23.000      0.0   68.0  4.714283  67.000000  47.0      0.0   \n",
       "151     1.0  1.0  24.000      3.0  558.0  2.000000  40.000000  33.0      1.0   \n",
       "\n",
       "     treat_effect  \n",
       "156      2.672244  \n",
       "121      2.746894  \n",
       "195      2.906835  \n",
       "276     12.132431  \n",
       "327     14.182419  \n",
       "151     14.554812  "
      ]
     },
     "execution_count": 16,
     "metadata": {},
     "output_type": "execute_result"
    }
   ],
   "source": [
    "##find the three individuals in the test set that are most and least responsive to the treatment\n",
    "##namely the three individuals for who the treatment effect is larger and those for who it is smaller\n",
    "\n",
    "test_set['treat_effect'] = yhat_treat - yhat_control\n",
    "test_set = test_set.sort_values('treat_effect', axis=0)\n",
    "most_least_treat = pd.concat([test_set[:3],test_set[-3:]])\n",
    "most_least_treat"
   ]
  },
  {
   "cell_type": "code",
   "execution_count": 17,
   "metadata": {},
   "outputs": [
    {
     "data": {
      "text/plain": [
       "<AxesSubplot: title={'center': 'Feature importance'}, xlabel='F score', ylabel='Features'>"
      ]
     },
     "execution_count": 17,
     "metadata": {},
     "output_type": "execute_result"
    },
    {
     "data": {
      "image/png": "[encoded data removed]",
      "text/plain": [
       "<Figure size 640x480 with 1 Axes>"
      ]
     },
     "metadata": {},
     "output_type": "display_data"
    }
   ],
   "source": [
    "##visualize and comment on the covariates of these individuals \n",
    "from xgboost import XGBRegressor\n",
    "from xgboost import plot_importance\n",
    "\n",
    "xgb = XGBRegressor()\n",
    "xgb.fit(test_set[covariates], test_set['treat_effect'])\n",
    "\n",
    "plot_importance(xgb)"
   ]
  },
  {
   "cell_type": "code",
   "execution_count": null,
   "metadata": {},
   "outputs": [],
   "source": []
  }
 ],
 "metadata": {
  "interpreter": {
   "hash": "a0a5145e6c304e2a9afaf5b930a2955b950bd4b81fe94f7c42930f43f42762eb"
  },
  "kernelspec": {
   "display_name": "Python 3 (ipykernel)",
   "language": "python",
   "name": "python3"
  },
  "language_info": {
   "codemirror_mode": {
    "name": "ipython",
    "version": 3
   },
   "file_extension": ".py",
   "mimetype": "text/x-python",
   "name": "python",
   "nbconvert_exporter": "python",
   "pygments_lexer": "ipython3",
   "version": "3.9.13"
  }
 },
 "nbformat": 4,
 "nbformat_minor": 4
}
